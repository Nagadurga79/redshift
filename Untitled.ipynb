{
 "cells": [
  {
   "cell_type": "code",
   "execution_count": 1,
   "id": "172a4b9e",
   "metadata": {},
   "outputs": [],
   "source": [
    "import pandas as pd\n",
    "import psycopg2\n",
    "from sqlalchemy import create_engine\n",
    "from sqlalchemy import text"
   ]
  },
  {
   "cell_type": "code",
   "execution_count": 2,
   "id": "2136e01b",
   "metadata": {},
   "outputs": [],
   "source": [
    "sql=\"\"\"\n",
    "SELECT top 10 *\n",
    "FROM pg_user;\n",
    "\"\"\""
   ]
  },
  {
   "cell_type": "code",
   "execution_count": 3,
   "id": "94a8d088",
   "metadata": {},
   "outputs": [],
   "source": [
    "redshift_endpoint1 = \"YourDBname.cksrxes2iuiu.us-east-1.redshift.amazonaws.com\"\n",
    "redshift_user1=\"YourUserName\"\n",
    "redshift_pass1=\"YourRedshiftPassword\"\n",
    "port1=8192 # (whatever your redshift portnumber is)\n",
    "dbname1=\"YourDBname\""
   ]
  },
  {
   "cell_type": "code",
   "execution_count": 6,
   "id": "e0891e3d",
   "metadata": {},
   "outputs": [],
   "source": [
    "from sqlalchemy import create_engine\n",
    "from sqlalchemy import text\n",
    "engine_string=\"postgresql+psycopg2://%s:%s@%s:%d/%s\"\\\n",
    "%(redshift_user1,redshift_pass1,redshift_endpoint1,port1,dbname1)\n",
    "engine1=create_engine(engine_string)"
   ]
  },
  {
   "cell_type": "code",
   "execution_count": 9,
   "id": "a38788a3",
   "metadata": {},
   "outputs": [],
   "source": [
    "# df1=pd.read_sql_query(text(sql),engine1)\n",
    "# df1"
   ]
  },
  {
   "cell_type": "code",
   "execution_count": null,
   "id": "30cdd092",
   "metadata": {},
   "outputs": [],
   "source": []
  },
  {
   "cell_type": "code",
   "execution_count": null,
   "id": "dcd6101d",
   "metadata": {},
   "outputs": [],
   "source": []
  },
  {
   "cell_type": "code",
   "execution_count": null,
   "id": "07cf345b",
   "metadata": {},
   "outputs": [],
   "source": []
  },
  {
   "cell_type": "code",
   "execution_count": null,
   "id": "f3ee9b52",
   "metadata": {},
   "outputs": [],
   "source": []
  },
  {
   "cell_type": "code",
   "execution_count": null,
   "id": "3d99013f",
   "metadata": {},
   "outputs": [],
   "source": []
  },
  {
   "cell_type": "code",
   "execution_count": null,
   "id": "305028a9",
   "metadata": {},
   "outputs": [],
   "source": []
  },
  {
   "cell_type": "code",
   "execution_count": null,
   "id": "1b881579",
   "metadata": {},
   "outputs": [],
   "source": []
  },
  {
   "cell_type": "code",
   "execution_count": null,
   "id": "cc69b0c8",
   "metadata": {},
   "outputs": [],
   "source": []
  }
 ],
 "metadata": {
  "kernelspec": {
   "display_name": "Python 3 (ipykernel)",
   "language": "python",
   "name": "python3"
  },
  "language_info": {
   "codemirror_mode": {
    "name": "ipython",
    "version": 3
   },
   "file_extension": ".py",
   "mimetype": "text/x-python",
   "name": "python",
   "nbconvert_exporter": "python",
   "pygments_lexer": "ipython3",
   "version": "3.10.9"
  }
 },
 "nbformat": 4,
 "nbformat_minor": 5
}
